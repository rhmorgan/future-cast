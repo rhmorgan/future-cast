{
    "metadata": {
        "kernelspec": {
            "name": "SQL",
            "display_name": "SQL",
            "language": "sql"
        },
        "language_info": {
            "name": "sql",
            "version": ""
        }
    },
    "nbformat_minor": 2,
    "nbformat": 4,
    "cells": [
        {
            "cell_type": "markdown",
            "source": [
                "**Validate Put**"
            ],
            "metadata": {
                "azdata_cell_guid": "0478ae5e-af9b-4d1b-ac43-b29e603f1716"
            }
        },
        {
            "cell_type": "code",
            "source": [
                "DECLARE @RC int\r\n",
                "DECLARE @json NVARCHAR(max) = N'{\r\n",
                "    \"open\": true, \r\n",
                "    \"color\": \"red\", \r\n",
                "    \"title\": \"title\", \r\n",
                "    \"ScenarioName\": \"delete3\", \r\n",
                "    \"ScenarioDesc\": \"meDefault Value3\"\r\n",
                "}';\r\n",
                "\r\n",
                "-- TODO: Set parameter values here.\r\n",
                "\r\n",
                "--\tSELECT * FROM OPENJSON(@Json) WITH (\t\t\r\n",
                "--\t\tSenarioName NVARCHAR(100), \r\n",
                "--\t\tSenarioDesc NVARCHAR(2000) \r\n",
                "--\t)\r\n",
                "\r\n",
                "EXECUTE @RC = [web].[put_scenario] \r\n",
                "   @Json\r\n",
                "GO"
            ],
            "metadata": {
                "azdata_cell_guid": "494ada60-98c7-464e-8830-6c3039295267"
            },
            "outputs": [
                {
                    "output_type": "display_data",
                    "data": {
                        "text/html": "Commands completed successfully."
                    },
                    "metadata": {}
                },
                {
                    "output_type": "display_data",
                    "data": {
                        "text/html": "Total execution time: 00:00:00.022"
                    },
                    "metadata": {}
                },
                {
                    "output_type": "execute_result",
                    "execution_count": 8,
                    "data": {
                        "application/vnd.dataresource+json": {
                            "schema": {
                                "fields": [
                                    {
                                        "name": "JSON_F52E2B61-18A1-11d1-B105-00805F49916B"
                                    }
                                ]
                            },
                            "data": [
                                {
                                    "0": "[{\"ScenarioId\":259,\"ScenarioName\":\"delete3\",\"ScenarioDesc\":\"meDefault Value3\",\"CreatedDate\":\"2021-03-07T13:41:06.640\",\"RowVersion\":\"AAAAAAAAH80=\"}]"
                                }
                            ]
                        },
                        "text/html": "<table><tr><th>JSON_F52E2B61-18A1-11d1-B105-00805F49916B</th></tr><tr><td>[{&quot;ScenarioId&quot;:259,&quot;ScenarioName&quot;:&quot;delete3&quot;,&quot;ScenarioDesc&quot;:&quot;meDefault Value3&quot;,&quot;CreatedDate&quot;:&quot;2021-03-07T13:41:06.640&quot;,&quot;RowVersion&quot;:&quot;AAAAAAAAH80=&quot;}]</td></tr></table>"
                    },
                    "metadata": {}
                }
            ],
            "execution_count": 1
        },
        {
            "cell_type": "markdown",
            "source": [
                "**Validate Get**"
            ],
            "metadata": {
                "azdata_cell_guid": "98d13a7b-3cce-4a4d-887e-f90c0c20ee50"
            }
        },
        {
            "cell_type": "code",
            "source": [
                "DECLARE @Json2 NVARCHAR(MAX) = N'{\"ID\": ' + CAST('242' AS NVARCHAR(9)) + N'}'\r\n",
                "--SELECT * FROM OpenJson(@Json2);\r\n",
                "\r\n",
                "EXEC web.get_scenario @Json2;\r\n",
                ""
            ],
            "metadata": {
                "azdata_cell_guid": "6ffbc4ba-4de1-4f87-9b7d-91d5a94dec41"
            },
            "outputs": [
                {
                    "output_type": "display_data",
                    "data": {
                        "text/html": "Commands completed successfully."
                    },
                    "metadata": {}
                },
                {
                    "output_type": "display_data",
                    "data": {
                        "text/html": "Total execution time: 00:00:00.011"
                    },
                    "metadata": {}
                },
                {
                    "output_type": "execute_result",
                    "execution_count": 7,
                    "data": {
                        "application/vnd.dataresource+json": {
                            "schema": {
                                "fields": [
                                    {
                                        "name": "JSON_F52E2B61-18A1-11d1-B105-00805F49916B"
                                    }
                                ]
                            },
                            "data": [
                                {
                                    "0": "[{\"ScenarioId\":242,\"ScenarioName\":\"delete3\",\"ScenarioDesc\":\"meDefault Value3\",\"CreatedDate\":\"2021-03-07T01:37:05.053\",\"RowVersion\":\"AAAAAAAAH7k=\"}]"
                                }
                            ]
                        },
                        "text/html": "<table><tr><th>JSON_F52E2B61-18A1-11d1-B105-00805F49916B</th></tr><tr><td>[{&quot;ScenarioId&quot;:242,&quot;ScenarioName&quot;:&quot;delete3&quot;,&quot;ScenarioDesc&quot;:&quot;meDefault Value3&quot;,&quot;CreatedDate&quot;:&quot;2021-03-07T01:37:05.053&quot;,&quot;RowVersion&quot;:&quot;AAAAAAAAH7k=&quot;}]</td></tr></table>"
                    },
                    "metadata": {}
                }
            ],
            "execution_count": null
        },
        {
            "cell_type": "markdown",
            "source": [
                "**Validate Patching**"
            ],
            "metadata": {
                "azdata_cell_guid": "f5e3bb35-b3e4-46df-bb67-e1865dfafd32"
            }
        },
        {
            "cell_type": "code",
            "source": [
                "DECLARE @RC int\r\n",
                "DECLARE @json NVARCHAR(max) = N'{\r\n",
                "\"ScenarioId\":280,\r\n",
                "\"ScenarioName\":\"Update Record2\",\r\n",
                "\"ScenarioDesc\":\"Updating\",\r\n",
                "\"CreatedDate\":\"2021-03-07T14:17:27.627\"\r\n",
                "}';\r\n",
                "\r\n",
                "-- TODO: Set parameter values here.\r\n",
                "\r\n",
                "--\tSELECT * FROM OPENJSON(@Json) WITH (\t\t\r\n",
                "--\t\tSenarioName NVARCHAR(100), \r\n",
                "--\t\tSenarioDesc NVARCHAR(2000) \r\n",
                "--\t)\r\n",
                "\r\n",
                "EXECUTE @RC = [web].[patch_scenario] \r\n",
                "   @Json\r\n",
                "GO"
            ],
            "metadata": {
                "azdata_cell_guid": "fc063cd0-efa7-4e36-b872-1adb456638a1"
            },
            "outputs": [
                {
                    "output_type": "display_data",
                    "data": {
                        "text/html": "Commands completed successfully."
                    },
                    "metadata": {}
                },
                {
                    "output_type": "display_data",
                    "data": {
                        "text/html": "Total execution time: 00:00:00.023"
                    },
                    "metadata": {}
                },
                {
                    "output_type": "execute_result",
                    "execution_count": 6,
                    "data": {
                        "application/vnd.dataresource+json": {
                            "schema": {
                                "fields": [
                                    {
                                        "name": "JSON_F52E2B61-18A1-11d1-B105-00805F49916B"
                                    }
                                ]
                            },
                            "data": [
                                {
                                    "0": "[{\"ScenarioId\":280,\"ScenarioName\":\"Update Record2\",\"ScenarioDesc\":\"Updating\",\"CreatedDate\":\"2021-03-07T14:17:27.627\",\"RowVersion\":\"AAAAAAAAIAg=\"}]"
                                }
                            ]
                        },
                        "text/html": "<table><tr><th>JSON_F52E2B61-18A1-11d1-B105-00805F49916B</th></tr><tr><td>[{&quot;ScenarioId&quot;:280,&quot;ScenarioName&quot;:&quot;Update Record2&quot;,&quot;ScenarioDesc&quot;:&quot;Updating&quot;,&quot;CreatedDate&quot;:&quot;2021-03-07T14:17:27.627&quot;,&quot;RowVersion&quot;:&quot;AAAAAAAAIAg=&quot;}]</td></tr></table>"
                    },
                    "metadata": {}
                }
            ],
            "execution_count": null
        },
        {
            "cell_type": "code",
            "source": [
                "DECLARE @RC int\r\n",
                "DECLARE @json NVARCHAR(max) = N'{\r\n",
                "\"ScenarioId\":280,\r\n",
                "\"ScenarioName\":\"Update Record2\",\r\n",
                "\"ScenarioDesc\":\"Updating\",\r\n",
                "\"CreatedDate\":\"2021-03-07T14:17:27.627\"\r\n",
                "}';\r\n",
                "\r\n",
                "-- TODO: Set parameter values here.\r\n",
                "\r\n",
                "--\tSELECT * FROM OPENJSON(@Json) WITH (\t\t\r\n",
                "--\t\tSenarioName NVARCHAR(100), \r\n",
                "--\t\tSenarioDesc NVARCHAR(2000) \r\n",
                "--\t)\r\n",
                "\r\n",
                "EXECUTE @RC = [web].[delete_scenario] \r\n",
                "   @Json\r\n",
                "GO"
            ],
            "metadata": {
                "azdata_cell_guid": "af887525-0587-4721-a6a1-da6229f35dc6"
            },
            "outputs": [],
            "execution_count": null
        },
        {
            "cell_type": "markdown",
            "source": [
                "**Validate Delete:**"
            ],
            "metadata": {
                "azdata_cell_guid": "a45f3589-01b3-4a59-a68b-19c616da7418"
            }
        }
    ]
}